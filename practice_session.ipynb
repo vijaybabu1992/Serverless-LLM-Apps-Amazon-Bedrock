{
 "cells": [
  {
   "cell_type": "code",
   "execution_count": 1,
   "id": "7a5b312b",
   "metadata": {},
   "outputs": [],
   "source": [
    "import uuid"
   ]
  },
  {
   "cell_type": "code",
   "execution_count": 14,
   "id": "7aba71b7",
   "metadata": {},
   "outputs": [
    {
     "name": "stdout",
     "output_type": "stream",
     "text": [
      "transcribe-job5d826170-c745-4faa-9975-e0b3d1fae3ea\n"
     ]
    }
   ],
   "source": [
    "job = 'transcribe-job' + str(uuid.uuid4())\n",
    "print(job)"
   ]
  },
  {
   "cell_type": "code",
   "execution_count": 15,
   "id": "624804a6",
   "metadata": {},
   "outputs": [],
   "source": [
    "import time"
   ]
  },
  {
   "cell_type": "code",
   "execution_count": 17,
   "id": "42337f47",
   "metadata": {},
   "outputs": [],
   "source": [
    "a=time.sleep(2)\n",
    "a"
   ]
  },
  {
   "cell_type": "code",
   "execution_count": 18,
   "id": "d7d4321a",
   "metadata": {},
   "outputs": [
    {
     "name": "stdout",
     "output_type": "stream",
     "text": [
      "None\n"
     ]
    }
   ],
   "source": [
    "print(a)"
   ]
  },
  {
   "cell_type": "code",
   "execution_count": 21,
   "id": "fa4bf065",
   "metadata": {},
   "outputs": [
    {
     "name": "stdout",
     "output_type": "stream",
     "text": [
      "Writing prompt_template.txt\n"
     ]
    }
   ],
   "source": [
    "%%writefile prompt_template.txt\n",
    "I need to summarize a conversation. The transcript of the \n",
    "conversation is between the <data> XML like tags.\n",
    "\n",
    "<data>\n",
    "{{transcript}}\n",
    "</data>\n",
    "\n",
    "The summary must contain a one word sentiment analysis, and \n",
    "a list of issues, problems or causes of friction\n",
    "during the conversation. The output must be provided in \n",
    "JSON format shown in the following example. \n",
    "\n",
    "Example output:\n",
    "{\n",
    "    \"sentiment\": <sentiment>,\n",
    "    \"issues\": [\n",
    "        {\n",
    "            \"topic\": <topic>,\n",
    "            \"summary\": <issue_summary>,\n",
    "        }\n",
    "    ]\n",
    "}\n",
    "\n",
    "Write the JSON output and nothing more.\n",
    "\n",
    "Here is the JSON output:\n"
   ]
  },
  {
   "cell_type": "code",
   "execution_count": 22,
   "id": "8db9b8f4",
   "metadata": {},
   "outputs": [
    {
     "name": "stdout",
     "output_type": "stream",
     "text": [
      "Writing test.txt\n"
     ]
    }
   ],
   "source": [
    "%%writefile test.txt\n",
    "Hi everyone"
   ]
  },
  {
   "cell_type": "code",
   "execution_count": 24,
   "id": "1b00cb38",
   "metadata": {},
   "outputs": [],
   "source": [
    "with open('prompt_template.txt', \"r\") as file:\n",
    "    template_string = file.read()\n"
   ]
  },
  {
   "cell_type": "code",
   "execution_count": null,
   "id": "dc1b2934",
   "metadata": {},
   "outputs": [],
   "source": []
  },
  {
   "cell_type": "code",
   "execution_count": 32,
   "id": "78444362",
   "metadata": {},
   "outputs": [],
   "source": [
    "with open(f'test.txt', \"r\") as file:\n",
    "    transcript = file.read()\n",
    "data = {\n",
    "    'transcript' : transcript\n",
    "}"
   ]
  },
  {
   "cell_type": "code",
   "execution_count": 33,
   "id": "dc99856a",
   "metadata": {},
   "outputs": [],
   "source": [
    "from jinja2 import Template\n",
    "template = Template(template_string)"
   ]
  },
  {
   "cell_type": "code",
   "execution_count": 35,
   "id": "11732350",
   "metadata": {},
   "outputs": [],
   "source": [
    "prompt = template.render(data)"
   ]
  },
  {
   "cell_type": "code",
   "execution_count": 36,
   "id": "a626ef5b",
   "metadata": {},
   "outputs": [
    {
     "name": "stdout",
     "output_type": "stream",
     "text": [
      "I need to summarize a conversation. The transcript of the \n",
      "conversation is between the <data> XML like tags.\n",
      "\n",
      "<data>\n",
      "Hi everyone\n",
      "\n",
      "</data>\n",
      "\n",
      "The summary must contain a one word sentiment analysis, and \n",
      "a list of issues, problems or causes of friction\n",
      "during the conversation. The output must be provided in \n",
      "JSON format shown in the following example. \n",
      "\n",
      "Example output:\n",
      "{\n",
      "    \"sentiment\": <sentiment>,\n",
      "    \"issues\": [\n",
      "        {\n",
      "            \"topic\": <topic>,\n",
      "            \"summary\": <issue_summary>,\n",
      "        }\n",
      "    ]\n",
      "}\n",
      "\n",
      "Write the JSON output and nothing more.\n",
      "\n",
      "Here is the JSON output:\n"
     ]
    }
   ],
   "source": [
    "print(prompt)"
   ]
  },
  {
   "cell_type": "code",
   "execution_count": null,
   "id": "16bb3da3",
   "metadata": {},
   "outputs": [],
   "source": []
  }
 ],
 "metadata": {
  "kernelspec": {
   "display_name": "Python 3 (ipykernel)",
   "language": "python",
   "name": "python3"
  },
  "language_info": {
   "codemirror_mode": {
    "name": "ipython",
    "version": 3
   },
   "file_extension": ".py",
   "mimetype": "text/x-python",
   "name": "python",
   "nbconvert_exporter": "python",
   "pygments_lexer": "ipython3",
   "version": "3.9.12"
  }
 },
 "nbformat": 4,
 "nbformat_minor": 5
}
